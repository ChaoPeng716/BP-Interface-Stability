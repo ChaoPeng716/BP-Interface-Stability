{
 "cells": [
  {
   "cell_type": "code",
   "execution_count": 1,
   "metadata": {},
   "outputs": [],
   "source": [
    "import pandas as pd\n",
    "import numpy as np\n",
    "from chemprop import data, featurizers, models, utils\n",
    "from lightning import pytorch as pl\n",
    "import torch\n",
    "from preprocess import calc_terminal_features"
   ]
  },
  {
   "cell_type": "code",
   "execution_count": null,
   "metadata": {},
   "outputs": [],
   "source": [
    "model = models.MPNN.load_from_checkpoint('./Eint_H2O_1203.ckpt')"
   ]
  },
  {
   "cell_type": "code",
   "execution_count": 5,
   "metadata": {},
   "outputs": [],
   "source": [
    "# Load the SMILES strings\n",
    "df_candidates = pd.read_excel('candidate_database_20250124.xlsx', index_col=0)\n",
    "smis = df_candidates['SMILES']"
   ]
  },
  {
   "cell_type": "code",
   "execution_count": 6,
   "metadata": {},
   "outputs": [],
   "source": [
    "featurizer = featurizers.SimpleMoleculeMolGraphFeaturizer()"
   ]
  },
  {
   "cell_type": "code",
   "execution_count": 7,
   "metadata": {},
   "outputs": [],
   "source": [
    "test_data = []\n",
    "for smi in smis:\n",
    "    # return predicted Eint_H2O values for two ends of each molecule (which will be post-processed based on Eint_BP values of two ends to get the final Eint_H2O value)\n",
    "    terminal_features = calc_terminal_features(smi)\n",
    "    test_data.append(data.MoleculeDatapoint(\n",
    "        utils.make_mol(smi, keep_h=False, add_h=False),\n",
    "        V_d = terminal_features[0][0]\n",
    "    ))\n",
    "    test_data.append(data.MoleculeDatapoint(\n",
    "        utils.make_mol(smi, keep_h=False, add_h=False),\n",
    "        V_d = terminal_features[1][0]\n",
    "    ))\n",
    "\n",
    "test_dset = data.MoleculeDataset(test_data, featurizer=featurizer)\n",
    "test_loader = data.build_dataloader(test_dset, shuffle=False)"
   ]
  },
  {
   "cell_type": "code",
   "execution_count": null,
   "metadata": {},
   "outputs": [],
   "source": [
    "with torch.inference_mode():\n",
    "    trainer = pl.Trainer(\n",
    "        logger=None,\n",
    "        enable_progress_bar=True,\n",
    "        accelerator=\"auto\",\n",
    "        devices=1\n",
    "    )\n",
    "    test_preds = trainer.predict(model, test_loader)"
   ]
  },
  {
   "cell_type": "code",
   "execution_count": 9,
   "metadata": {},
   "outputs": [],
   "source": [
    "test_preds = np.concatenate(test_preds, axis=0)"
   ]
  },
  {
   "cell_type": "code",
   "execution_count": null,
   "metadata": {},
   "outputs": [],
   "source": [
    "# It is actually the predicted Eint_H2O values for two ends of molecule 3\n",
    "test_preds[4], test_preds[5]\n"
   ]
  }
 ],
 "metadata": {
  "kernelspec": {
   "display_name": "mol_ml",
   "language": "python",
   "name": "python3"
  },
  "language_info": {
   "codemirror_mode": {
    "name": "ipython",
    "version": 3
   },
   "file_extension": ".py",
   "mimetype": "text/x-python",
   "name": "python",
   "nbconvert_exporter": "python",
   "pygments_lexer": "ipython3",
   "version": "3.12.2"
  }
 },
 "nbformat": 4,
 "nbformat_minor": 2
}
